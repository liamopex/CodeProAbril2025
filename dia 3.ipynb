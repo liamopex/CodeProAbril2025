{
 "cells": [
  {
   "cell_type": "code",
   "execution_count": 18,
   "id": "b499518d",
   "metadata": {},
   "outputs": [
    {
     "name": "stdout",
     "output_type": "stream",
     "text": [
      "Hola Valentina\n"
     ]
    }
   ],
   "source": [
    "def Palabra(tu_hermana):\n",
    "    print(f\"Hola {tu_hermana}\")\n",
    "\n",
    "Palabra(\"Valentina\")"
   ]
  },
  {
   "cell_type": "code",
   "execution_count": 42,
   "id": "06a92c5b",
   "metadata": {},
   "outputs": [
    {
     "name": "stdout",
     "output_type": "stream",
     "text": [
      "Las letras son iguales\n"
     ]
    }
   ],
   "source": [
    "def iguales(letra1, letra2):\n",
    "    if letra1 == letra2:\n",
    "       print(\"Las letras son iguales\")\n",
    "    else:\n",
    "       print(\"Las letras son diferentes\") \n",
    "\n",
    "iguales(\"a\", \"a\")\n",
    "\n",
    "    \n"
   ]
  },
  {
   "cell_type": "code",
   "execution_count": 81,
   "id": "cfcc73cf",
   "metadata": {},
   "outputs": [
    {
     "data": {
      "text/plain": [
       "True"
      ]
     },
     "execution_count": 81,
     "metadata": {},
     "output_type": "execute_result"
    }
   ],
   "source": [
    "def palabra_y_numero(palabra, numero):\n",
    "    if len(palabra) == numero:\n",
    "        return True\n",
    "    else:\n",
    "        return False\n",
    "\n",
    "palabra_y_numero(\"hola\",4)"
   ]
  },
  {
   "cell_type": "code",
   "execution_count": 79,
   "id": "0b8e256e",
   "metadata": {},
   "outputs": [
    {
     "name": "stdout",
     "output_type": "stream",
     "text": [
      "[['g', 'u', 's', 't', 'a', 'v', 'o']]\n",
      "[['g', 'u', 's', 't', 'a', 'v', 'o'], ['p', 'u', 't', 'o']]\n",
      "[['g', 'u', 's', 't', 'a', 'v', 'o'], ['p', 'u', 't', 'o'], ['m', 'a', 'r', 'i', 'c', 'o', 'n']]\n"
     ]
    }
   ],
   "source": [
    "palabra_ingresada =[]\n",
    "for i in range(3):\n",
    "   palabras= input(\"Ingrese una palabra: \")\n",
    "   lista_de_letras= list(palabras)\n",
    "   palabra_ingresada.append(lista_de_letras)\n",
    "   print(palabra_ingresada)\n",
    "    \n",
    "\n"
   ]
  },
  {
   "cell_type": "code",
   "execution_count": 28,
   "id": "05a6d137",
   "metadata": {},
   "outputs": [
    {
     "name": "stdout",
     "output_type": "stream",
     "text": [
      "['h', 'o', 'l', 'i', 's']\n",
      "['h', 'e', 'l', 'l', 'o']\n",
      "['h', 'a', 'l', 'l', 'o']\n"
     ]
    }
   ],
   "source": [
    "lista  = [['h', 'o', 'l', 'i', 's'], ['h', 'e', 'l', 'l', 'o'], ['h', 'a', 'l', 'l', 'o']]\n",
    "def imprimir_grilla(lista):\n",
    "    for fila in lista:\n",
    "        print(fila)\n",
    "imprimir_grilla(lista)"
   ]
  },
  {
   "cell_type": "code",
   "execution_count": null,
   "id": "eaf46620",
   "metadata": {},
   "outputs": [
    {
     "name": "stdout",
     "output_type": "stream",
     "text": [
      "Bienvenido al wordle de Liam, suerte sabandija\n",
      "Adivina la palabra de 5 letras\n",
      "Ganaste!\n"
     ]
    }
   ],
   "source": [
    "print(\"Bienvenido al wordle de la mesa, suerte sabandija\")\n",
    "print(\"Adivina la palabra de 5 letras\")\n",
    "palabra_secreta = \"perro\"\n",
    "intentos = 3\n",
    "while intentos > 0:\n",
    "    palabra_ingresada = input(\"Ingrese una palabra de 5 letras: \")\n",
    "    palabra_ingresada = input(\"Ingrese una palabra de 5 letras: \").lower()"
   ]
  },
  {
   "cell_type": "code",
   "execution_count": null,
   "id": "b6c543cd",
   "metadata": {},
   "outputs": [
    {
     "name": "stdout",
     "output_type": "stream",
     "text": [
      "BIENVENIDOS AL JUEGO DEL AHORCADO\n",
      "-El juego consiste en que el usuario\n",
      "tiene que insertar una palabra de\n",
      "de 5 letras, si la adivina gana el\n",
      "juego, y si no se toman en cuenta las\n",
      "letras, si las letras esta en el lugar \n",
      "correcto tiene mas chances de adivinar\n",
      "la palabra.\n",
      "-El jugador tiene 3 intentos para\n",
      "adivinar la palabra correcta.\n"
     ]
    }
   ],
   "source": [
    "#Apartir de aca se empieza a imprimir lo que seria el menu de inicio del juego\n",
    "def bienvenida_reglas_del_juego():\n",
    "    print(\"BIENVENIDOS AL JUEGO DEL AHORCADO\")\n",
    "    print(\"-El juego consiste en que el usuario\")\n",
    "    print(\"tiene que insertar una palabra de\")\n",
    "    print(\"de 5 letras, si la adivina gana el\" )\n",
    "    print(\"juego, y si no se toman en cuenta las\")\n",
    "    print(\"letras, si las letras esta en el lugar \")\n",
    "    print(\"correcto tiene mas chances de adivinar\")\n",
    "    print(\"la palabra.\")\n",
    "    print(\"-El jugador tiene 3 intentos para\") \n",
    "    print(\"adivinar la palabra correcta.\")\n",
    "bienvenida_reglas_del_juego()\n",
    "\n",
    "                                    \n",
    "\n",
    "#Aqui estableimos los intentos y la palabra correccta utilizando bucles y funciones \n",
    "intentos = 3\n",
    "\n",
    "def verificar_palabra(palabra_correcta, palabra_ingresada):\n",
    "    total_de_letras = 7\n",
    "    palabra_verificada = []\n",
    "    for letra in range(total_de_letras):\n",
    "        if palabra_ingresada[letra] == palabra_correcta[letra]:\n",
    "            palabra_verificada.append(f\"[{palabra_ingresada[letra]}]\")\n",
    "        elif palabra_ingresada[letra] in palabra_correcta:\n",
    "            palabra_verificada.append(f\"({palabra_ingresada[letra]})\")\n",
    "        else:\n",
    "            palabra_verificada.append(palabra_ingresada[letra])\n",
    "    return palabra_verificada\n",
    "\n",
    "palabra_correcta = \"penguin\"\n",
    "\n",
    "while intentos > 0:\n",
    "    palabra_ingresada = input(\"ingrese una palabra de 7 letras: \").lower()\n",
    "\n",
    "    if len(palabra_ingresada) != 7:\n",
    "        print(\"la palabra debe tener exactamente 7 letras. no se descontará un intento.\")\n",
    "    elif palabra_ingresada == palabra_correcta:\n",
    "        print(\"felicidades, adivinaste la palabra\")\n",
    "        palabra_verificada = verificar_palabra(palabra_correcta, palabra_ingresada)\n",
    "        print(\"resultado:\", palabra_verificada)\n",
    "\n",
    "        break\n",
    "    else:\n",
    "            intentos -= 1\n",
    "            print(\"no adivinaste la palabra\")\n",
    "            print(f\"te quedan {intentos} intento(s)\")\n",
    "\n",
    "if intentos == 0:\n",
    "    print(f\"perdiste. la palabra correcta era: {palabra_correcta}\")\n",
    "\n"
   ]
  }
 ],
 "metadata": {
  "kernelspec": {
   "display_name": ".venv",
   "language": "python",
   "name": "python3"
  },
  "language_info": {
   "codemirror_mode": {
    "name": "ipython",
    "version": 3
   },
   "file_extension": ".py",
   "mimetype": "text/x-python",
   "name": "python",
   "nbconvert_exporter": "python",
   "pygments_lexer": "ipython3",
   "version": "3.12.3"
  }
 },
 "nbformat": 4,
 "nbformat_minor": 5
}
