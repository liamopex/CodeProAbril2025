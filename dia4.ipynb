{
 "cells": [
  {
   "cell_type": "code",
   "execution_count": 18,
   "id": "563a301a",
   "metadata": {},
   "outputs": [
    {
     "name": "stdout",
     "output_type": "stream",
     "text": [
      "diccionario actualizao\n",
      "{'nombre': 'Liam'}\n",
      "diccionario actualizao\n",
      "{'nombre': 'Liam', 'edad': '19'}\n",
      "diccionario actualizao\n",
      "{'nombre': 'Liam', 'edad': '19', 'telefono': '0991726289'}\n",
      "diccionario actualizao\n",
      "{'nombre': 'Liam', 'edad': '19', 'telefono': '0991726289', 'correo electronico': 'liamchupapi69@gmail.com'}\n"
     ]
    }
   ],
   "source": [
    "diccionario_persona = {}\n",
    "\n",
    "mi_diccionario=[\"nombre\", \"edad\", \"telefono\", \"correo electronico\"]\n",
    "for diccionario in mi_diccionario:\n",
    "   valor= input(f\"ingrese su {diccionario}:\")\n",
    "   diccionario_persona[diccionario] = valor\n",
    "   print(\"diccionario actualizao\")\n",
    "   print (diccionario_persona)\n",
    "\n",
    "\n",
    "\n",
    "\n",
    "                  "
   ]
  },
  {
   "cell_type": "code",
   "execution_count": null,
   "id": "261981b0",
   "metadata": {},
   "outputs": [],
   "source": [
    "#challenge nro 2\n",
    "#crear una tarjeta personal. el usuario mediante input puede elegir:\n",
    "tarjeta={}\n",
    "\n",
    "print(\"n1 agregar datos a la tarjeta\")\n",
    "print(\"n2 modifica datos\")\n",
    "print(\"n3 elimina datos\")\n",
    "print(\"n4 elimina datos\")\n",
    "print(\"n5 salir de la tarjeta\")\n",
    "while True:\n",
    "\n",
    "    opcion = int(input(\"ingrese opcion\"))\n",
    "    if opcion == 1:\n",
    "       tarjeta[\"nombre\"] = input(\"escribe tu nombre\")\n",
    "       tarjeta[\"edad\"] = input('escribe tu edad')\n",
    "       tarjeta[\"genero\"]= input(\"ingresa tu genero\")\n",
    "    elif opcion == 2:\n",
    "        dato=input(\"que dato deseas modificar (nombre, edad, genero): \")\n",
    "        if dato in tarjeta:\n",
    "            dato[tarjeta]= input (f\"ingrese nuevo valor a la tarjeta{dato}: \")\n",
    "        else:\n",
    "            print(\"ese dato no existe\")\n",
    "\n",
    "    elif opcion == 3:\n",
    "        dato=input(\"que dato deseas eliminar? (nombre, edad, genero): \")\n",
    "        if dato in tarjeta:\n",
    "            del tarjeta[dato]\n",
    "            print(f\"el dato {dato} ha sido eliminado\")\n",
    "        else:\n",
    "            print(\"ese dato no existe\")\n",
    "    elif opcion == 4:\n",
    "        print(\"los datos de la tarjeta son:\")\n",
    "        for clave, valor in tarjeta.items():\n",
    "            print(f\"{clave}: {valor}\")\n",
    "    elif opcion == 5:\n",
    "        print(\"saliendo de la tarjeta\")\n",
    "        break\n",
    "    else:\n",
    "        print(\"opcion no valida\")\n",
    "\n",
    "\n",
    "\n",
    "\n"
   ]
  },
  {
   "cell_type": "code",
   "execution_count": null,
   "id": "da865954",
   "metadata": {},
   "outputs": [],
   "source": [
    "#crea una agenda de contactos. el usuario puede mostrar los contactos,crear contactos y modifocar contactos\n",
    "\n",
    "agenda = {\"Joro\": \"0991726486\", \"Mami\": \"0992947562\", \"Liam\": \"0991726289\"}\n",
    "\n",
    "print(\"n1 mostrar contactos\")\n",
    "print(\"n2 crear contacto\")\n",
    "print(\"n3 modificar contacto\")\n",
    "print(\"n4 salir de contactos\")\n",
    "\n",
    "def mostrar_contactos():\n",
    "    if not agenda:\n",
    "        print(\"No esta en los contactos\")\n",
    "    else:\n",
    "        for nombre, telefono in agenda.items():\n",
    "            print(f\"{nombre}: {telefono}\")\n",
    "def agregar_contacto():\n",
    "    nombre = input(\"ingrese el nombre del contacto: \")\n",
    "    telefono = input(\"ingrese el telefono del contacto: \")\n",
    "    agenda[nombre] = telefono\n",
    "    print(f\"Contacto {nombre} agregado con exito\")\n",
    "def modificar_contacto():\n",
    "    nombre = input(\"ingrese el nombre del contacto a modificar: \")\n",
    "    if nombre in agenda:\n",
    "        nuevo_telefono = input(\"ingrese el nuevo telefono: \")\n",
    "        agenda[nombre] = nuevo_telefono\n",
    "        print(f\"Contacto {nombre} modificado con exito\")\n",
    "    else:\n",
    "        print(\"El contacto no existe\")\n",
    "\n",
    "while True:\n",
    "\n",
    "    opcion = int(input(\"ingresa una opcion\"))\n",
    "    if opcion == 1:\n",
    "        mostrar_contactos()\n",
    "    elif opcion == 2:\n",
    "        agregar_contacto()\n",
    "    elif opcion == 3:\n",
    "        modificar_contacto()\n",
    "    elif opcion == 4:\n",
    "        print(\"saliste de contactos\")\n",
    "        break\n",
    "\n",
    "\n",
    "    else:\n",
    "        print(\"opcion no valida\")\n",
    "       \n",
    "     \n",
    "\n",
    "\n",
    "\n",
    "\n",
    "    \n",
    "\n",
    "\n",
    "\n",
    "\n"
   ]
  },
  {
   "cell_type": "markdown",
   "id": "42092435",
   "metadata": {},
   "source": [
    "PROGRAMACION ORIENTADA A OBJETOS"
   ]
  },
  {
   "cell_type": "code",
   "execution_count": 23,
   "id": "59d68588",
   "metadata": {},
   "outputs": [
    {
     "name": "stdout",
     "output_type": "stream",
     "text": [
      "2\n"
     ]
    }
   ],
   "source": [
    "class Humano:\n",
    "    ojos = 2\n",
    "    brazos = 2\n",
    "    piernas = 2\n",
    "    cabeza = 1\n",
    "\n",
    "felipe= Humano()\n",
    "print(felipe.ojos)"
   ]
  },
  {
   "cell_type": "code",
   "execution_count": null,
   "id": "d298858e",
   "metadata": {},
   "outputs": [
    {
     "name": "stdout",
     "output_type": "stream",
     "text": [
      "cuando salgo mi novia me reta\n",
      "cuando juego futbol sin permiso mi novia me reta\n"
     ]
    }
   ],
   "source": [
    "class Loro:\n",
    "    \n",
    "    def __init__(self, color, raza):\n",
    "       self.morochito= color\n",
    "       self.humano=raza\n",
    "    \n",
    "    def accion(self):\n",
    "       return (\"cuando salgo mi senhora me reta\")\n",
    "    def jugar(self):\n",
    "       return(\"cuando juego futbol sin permiso mi senhora me reta\")\n",
    "\n",
    "Jorge=Loro(\"morochito\", \"humano\")\n",
    "\n",
    "\n",
    "print(Jorge.accion())\n",
    "print(Jorge.jugar())"
   ]
  },
  {
   "cell_type": "code",
   "execution_count": 43,
   "id": "f99a411a",
   "metadata": {},
   "outputs": [
    {
     "data": {
      "text/plain": [
       "'si rompo algo con la pelota, mi novia me reta'"
      ]
     },
     "execution_count": 43,
     "metadata": {},
     "output_type": "execute_result"
    }
   ],
   "source": [
    "class Lorito(Loro):\n",
    "    def jugar(self):\n",
    "        return(\"si rompo algo con la pelota, mi novia me reta\")\n",
    "\n",
    "Liam=Lorito(\"negro\", \"humano\")\n",
    "\n",
    "Liam.jugar()\n",
    "\n"
   ]
  },
  {
   "cell_type": "code",
   "execution_count": 58,
   "id": "40ed7e1c",
   "metadata": {},
   "outputs": [
    {
     "name": "stdout",
     "output_type": "stream",
     "text": [
      "Nombre: Liam, Edad: 19 años\n",
      "Liam está estudiando Ingenieria y le tomará 5 años.\n"
     ]
    }
   ],
   "source": [
    "#definir una clase madre que herede a sus clases hijas dos atrinutos de instancia.mostrar ambos atributos en la pantalla\n",
    "class Persona:\n",
    "    def __init__(self, nombre, edad):\n",
    "        self.nombre = nombre\n",
    "        self.edad = edad\n",
    "    def mostrar_informacion(self):\n",
    "        print(f\"Nombre: {self.nombre}, Edad: {self.edad}\")\n",
    "\n",
    "Humano = Persona(\"Liam\", \"19 años\")\n",
    "\n",
    "Humano.mostrar_informacion()\n",
    "\n",
    "class Estudiante(Persona):\n",
    "    def carrera_facu(self, carrera, anhos):\n",
    "        print(f\"{self.nombre} está estudiando {carrera} y le tomará {anhos} años.\")\n",
    "\n",
    "Facu = Estudiante(\"Liam\", \"19 años\")\n",
    "\n",
    "Facu.carrera_facu(\"Ingenieria\", 5)"
   ]
  }
 ],
 "metadata": {
  "kernelspec": {
   "display_name": "Python 3",
   "language": "python",
   "name": "python3"
  },
  "language_info": {
   "codemirror_mode": {
    "name": "ipython",
    "version": 3
   },
   "file_extension": ".py",
   "mimetype": "text/x-python",
   "name": "python",
   "nbconvert_exporter": "python",
   "pygments_lexer": "ipython3",
   "version": "3.12.3"
  }
 },
 "nbformat": 4,
 "nbformat_minor": 5
}
