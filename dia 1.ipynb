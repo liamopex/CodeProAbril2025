{
 "cells": [
  {
   "cell_type": "code",
   "execution_count": 4,
   "id": "879b6756",
   "metadata": {},
   "outputs": [
    {
     "name": "stdout",
     "output_type": "stream",
     "text": [
      "hola mundo\n"
     ]
    }
   ],
   "source": [
    "print (\"hola mundo\")"
   ]
  },
  {
   "cell_type": "code",
   "execution_count": 8,
   "id": "3d9bf4b2",
   "metadata": {},
   "outputs": [
    {
     "name": "stdout",
     "output_type": "stream",
     "text": [
      "35000\n",
      "0\n",
      "4750.0\n"
     ]
    }
   ],
   "source": [
    "precio_total= 15000 + 20000\n",
    "print(precio_total)\n",
    "\n",
    "precio_descuento= precio_total - 35000   \n",
    "print(precio_descuento)\n",
    "\n",
    "precio_gaseosa= 19000\n",
    "cantidad_personas= 4\n",
    "vaquita = precio_gaseosa / cantidad_personas\n",
    "print(vaquita)"
   ]
  },
  {
   "cell_type": "code",
   "execution_count": 20,
   "id": "0f6b8800",
   "metadata": {},
   "outputs": [
    {
     "name": "stdout",
     "output_type": "stream",
     "text": [
      "La cantidad de frutas es 21\n",
      "Las frutas que se vendieron son 15\n"
     ]
    }
   ],
   "source": [
    "#Suma de Frutas\n",
    "cantidad_de_Manzanas = 13\n",
    "cantidad_de_Naranjas = 8\n",
    "cantidad_de_frutas = cantidad_de_Manzanas + cantidad_de_Naranjas\n",
    "print (\"La cantidad de frutas es\",cantidad_de_frutas)\n",
    "#Venta de Frutas\n",
    "frutas_vendidas= 6\n",
    "frutas_restantes = cantidad_de_frutas - frutas_vendidas\n",
    "print(\"Las frutas que se vendieron son\", frutas_restantes)"
   ]
  },
  {
   "cell_type": "code",
   "execution_count": 46,
   "id": "f5286934",
   "metadata": {},
   "outputs": [
    {
     "name": "stdout",
     "output_type": "stream",
     "text": [
      "hola Me llamo Alan Riquelme mucho gusto\n"
     ]
    }
   ],
   "source": [
    "nombre = \"Alan\"\n",
    "apellido = \"Riquelme\"\n",
    "print(\"hola Me llamo\" + \" \" + nombre +\" \"+ apellido +\" \" \"mucho gusto\")"
   ]
  },
  {
   "cell_type": "code",
   "execution_count": 60,
   "id": "443733fe",
   "metadata": {},
   "outputs": [
    {
     "name": "stdout",
     "output_type": "stream",
     "text": [
      "Hola, me llamo Liam Barrios mucho gusto\n"
     ]
    }
   ],
   "source": [
    "nombre =\"Liam\"\n",
    "apellido = \"Barrios\"\n",
    "print(format(\"Hola, me llamo {} {} mucho gusto\".format(nombre, apellido)))"
   ]
  },
  {
   "cell_type": "code",
   "execution_count": 59,
   "id": "d56b80be",
   "metadata": {},
   "outputs": [
    {
     "name": "stdout",
     "output_type": "stream",
     "text": [
      "La suma de los dos numeros es:  2\n"
     ]
    }
   ],
   "source": [
    "numero1= int(input(\"Ingrese el primer numero: \"))\n",
    "numero2= int(input(\"Ingrese el segundo numero: \"))\n",
    "suma= numero1 + numero2\n",
    "print(\"La suma de los dos numeros es: \", suma)"
   ]
  },
  {
   "cell_type": "code",
   "execution_count": null,
   "id": "40da6ab2",
   "metadata": {},
   "outputs": [
    {
     "name": "stdout",
     "output_type": "stream",
     "text": [
      "abrir la nevera\n",
      "sacar los ingredientes\n",
      "cerrar la nevera\n",
      "cocinar los ingredientes\n",
      "servir la comida\n",
      "comer la comida\n",
      "abrir la nevera\n",
      "sacar los ingredientes\n",
      "cerrar la nevera\n",
      "cocinar los ingredientes\n",
      "servir la comida\n",
      "comer la comida\n",
      "abrir la nevera\n",
      "sacar los ingredientes\n",
      "cerrar la nevera\n",
      "cocinar los ingredientes\n",
      "servir la comida\n",
      "comer la comida\n"
     ]
    }
   ],
   "source": [
    "#preparar comida\n",
    "def preparar_comida():\n",
    "    print(\"abrir la nevera\")\n",
    "    print(\"sacar los ingredientes\")\n",
    "    print(\"cerrar la nevera\")\n",
    "    print(\"cocinar los ingredientes\")\n",
    "    print(\"servir la comida\")\n",
    "    print(\"comer la comida\")\n",
    "\n",
    "preparar_comida()\n",
    "preparar_comida()\n",
    "preparar_comida()\n",
    "\n"
   ]
  },
  {
   "cell_type": "code",
   "execution_count": 109,
   "id": "a48637cd",
   "metadata": {},
   "outputs": [
    {
     "name": "stdout",
     "output_type": "stream",
     "text": [
      "ir a la tienda\n",
      "ver el telefono y es un iphone 16 pro max de 1500$\n",
      "comprar el celular\n",
      "abrir la caja\n",
      "encender el celular\n"
     ]
    }
   ],
   "source": [
    "def comprar_celular(caracteristicas):\n",
    "    print(\"ir a la tienda\")\n",
    "    print(f\"ver el telefono y es un {caracteristicas}\")\n",
    "    print(\"comprar el celular\")\n",
    "    print(\"abrir la caja\")\n",
    "    print(\"encender el celular\")\n",
    "\n",
    "comprar_celular(\"iphone 16 pro max de 1500$\")"
   ]
  },
  {
   "cell_type": "code",
   "execution_count": null,
   "id": "01c7ef0c",
   "metadata": {},
   "outputs": [],
   "source": [
    "\n",
    "movimiento = input(\"Ingrese el movimiento del jugador: \")\n",
    "if movimiento == \"W\":\n",
    "        print(\"El jugador se mueve hacia adelante\")\n",
    "        \n",
    "elif movimiento == \"A\":\n",
    "        print(\"El jugador se mueve hacia la izquierda\")\n",
    "elif movimiento == \"S\":\n",
    "        print(\"El jugador se mueve hacia atras\")    \n",
    "elif movimiento == \"D\":\n",
    "        print(\"El jugador se mueve hacia la derecha\")"
   ]
  }
 ],
 "metadata": {
  "kernelspec": {
   "display_name": ".venv",
   "language": "python",
   "name": "python3"
  },
  "language_info": {
   "codemirror_mode": {
    "name": "ipython",
    "version": 3
   },
   "file_extension": ".py",
   "mimetype": "text/x-python",
   "name": "python",
   "nbconvert_exporter": "python",
   "pygments_lexer": "ipython3",
   "version": "3.12.3"
  }
 },
 "nbformat": 4,
 "nbformat_minor": 5
}
