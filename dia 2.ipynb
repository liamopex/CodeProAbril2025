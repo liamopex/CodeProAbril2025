{
 "cells": [
  {
   "cell_type": "code",
   "execution_count": 7,
   "id": "4fb453d1",
   "metadata": {},
   "outputs": [
    {
     "name": "stdout",
     "output_type": "stream",
     "text": [
      "Hola Liam, bienvenido al curso de Python.\n",
      "Espero que disfrutes aprendiendo.\n",
      "¡Vamos a empezar!\n"
     ]
    }
   ],
   "source": [
    "def saludo_de_bienvenida(nombre):\n",
    "    print(f\"Hola {nombre}, bienvenido al curso de Python.\")\n",
    "    print(\"Espero que disfrutes aprendiendo.\")\n",
    "    print(\"¡Vamos a empezar!\")\n",
    "    \n",
    "saludo_de_bienvenida(\"Liam\")"
   ]
  },
  {
   "cell_type": "markdown",
   "id": "34eb59dd",
   "metadata": {},
   "source": [
    "#CONDICIONALES"
   ]
  },
  {
   "cell_type": "code",
   "execution_count": 87,
   "id": "8829208f",
   "metadata": {},
   "outputs": [
    {
     "name": "stdout",
     "output_type": "stream",
     "text": [
      "sos menor, toma juguito nomas bro\n"
     ]
    }
   ],
   "source": [
    "#Ejercicio 2\n",
    "\n",
    "edad = int(input(\"cuántos años tienes? \"))\n",
    "\n",
    "if edad < 18:\n",
    "    print(\"sos menor, toma juguito nomas bro\")\n",
    "elif edad < 21:\n",
    "   print(\"sos mayor, pero podes tomar y no comprar\")\n",
    "else:\n",
    "   print(\"sos mayor, podes comprar y tomar, vamos pue a chupar oluo\")\n",
    "\n",
    "       "
   ]
  },
  {
   "cell_type": "code",
   "execution_count": null,
   "id": "835e503b",
   "metadata": {},
   "outputs": [
    {
     "name": "stdout",
     "output_type": "stream",
     "text": [
      "sos mayor, pero podes tomar pero no comprar bro\n"
     ]
    }
   ],
   "source": [
    "edad = 20\n",
    "if edad < 18:\n",
    "    print(\"sos menor, toma juguito nomas bro\")\n",
    "elif edad <21:\n",
    "    print(\"sos mayor, pero podes tomar pero no comprar bro\")\n",
    "else: \n",
    "    print(\"sos mayor, podes comprar y tomar, vamos pue a chupar oluo\")18"
   ]
  },
  {
   "cell_type": "code",
   "execution_count": 138,
   "id": "b6ed728a",
   "metadata": {},
   "outputs": [
    {
     "name": "stdout",
     "output_type": "stream",
     "text": [
      "como vas a querer mas frio, enfermo\n"
     ]
    }
   ],
   "source": [
    "temperatura_afu = int(input(\"cuál es la temperatura afuera? \"))\n",
    "if temperatura_afu >= -10 and temperatura_afu <= 18:\n",
    "    print(\"Hostia, hace un frio que te cagas, parece el bernabeu\")\n",
    "elif temperatura_afu >= 19 and temperatura_afu <= 30:\n",
    "    print(\"hace calor'i amigo, surge una bien fria\")\n",
    "elif temperatura_afu >= 31 and temperatura_afu <= 45:\n",
    "    print(\"hace mucho calor bro, no salgas que te derretis, bombon\")\n",
    "elif temperatura_afu >45:\n",
    "   print(\"Calor de m*$#a\")\n",
    "else:\n",
    "    print(\"como vas a querer mas frio, enfermo\")\n"
   ]
  },
  {
   "cell_type": "code",
   "execution_count": 184,
   "id": "99379165",
   "metadata": {},
   "outputs": [
    {
     "name": "stdout",
     "output_type": "stream",
     "text": [
      "contraseña incorrecta, fallaste, proba de nuevo grone\n",
      "contraseña incorrecta, fallaste, proba de nuevo grone\n",
      "contraseña incorrecta, fallaste, proba de nuevo grone\n",
      "contraseña incorrecta, fallaste, proba de nuevo grone\n",
      "contraseña correcta, bienvenido negro\n",
      "el mensaje secreto es: no hay\n"
     ]
    }
   ],
   "source": [
    "codigo_del_sistema = input(\"ingrese la contraseña: \")\n",
    "\n",
    "while codigo_del_sistema != \"liambellaco\":\n",
    "    print(\"contraseña incorrecta, fallaste, proba de nuevo grone\")\n",
    "    codigo_del_sistema = input(\"ingrese la contraseña: \")   \n",
    "    \n",
    "print(\"contraseña correcta, bienvenido negro\")\n",
    "print(\"el mensaje secreto es: no hay\")\n",
    "\n",
    "\n",
    "\n",
    "\n",
    "    \n",
    "    \n",
    "\n",
    "    \n"
   ]
  },
  {
   "cell_type": "markdown",
   "id": "8f18e9c9",
   "metadata": {},
   "source": [
    "#Listas"
   ]
  },
  {
   "cell_type": "code",
   "execution_count": 201,
   "id": "7f84a197",
   "metadata": {},
   "outputs": [
    {
     "name": "stdout",
     "output_type": "stream",
     "text": [
      "['fifa', 'fortnite', 'call of duty', 'gta', 'mario bros']\n",
      "['fifa', 'fortnite', 'call of duty', 'gta', 'mario bros', 'street fighter']\n",
      "['fifa', 'minecraft', 'call of duty', 'gta', 'mario bros', 'street fighter']\n",
      "['fifa', 'minecraft', 'gta', 'mario bros', 'street fighter']\n"
     ]
    }
   ],
   "source": [
    "lista_de_juegos = [\"fifa\", \"fortnite\", \"call of duty\", \"gta\", \"mario bros\"]\n",
    "print(lista_de_juegos)\n",
    "lista_de_juegos.append(\"street fighter\")\n",
    "print(lista_de_juegos)\n",
    "lista_de_juegos[1]= \"minecraft\"\n",
    "print(lista_de_juegos)\n",
    "lista_de_juegos.pop(2)\n",
    "print(lista_de_juegos)\n"
   ]
  },
  {
   "cell_type": "code",
   "execution_count": 223,
   "id": "4b743ffa",
   "metadata": {},
   "outputs": [
    {
     "name": "stdout",
     "output_type": "stream",
     "text": [
      "0\n",
      "2\n",
      "4\n",
      "6\n",
      "8\n",
      "10\n",
      "12\n",
      "14\n",
      "16\n",
      "18\n"
     ]
    }
   ],
   "source": [
    "for letra in range (10):\n",
    "    print(letra*2)\n",
    "    \n"
   ]
  },
  {
   "cell_type": "code",
   "execution_count": 265,
   "id": "a80487c0",
   "metadata": {},
   "outputs": [
    {
     "name": "stdout",
     "output_type": "stream",
     "text": [
      "adidas\n",
      "rebook\n",
      "converse\n",
      "new balance\n"
     ]
    }
   ],
   "source": [
    "marca:[\"nike\", \"adidas\", \"vans\", \"rebook\", \"converse\", \"new balance\"]\n",
    "\n",
    "for calzados in marca:\n",
    "   if len(calzados) >= 6:\n",
    "    print(calzados)\n",
    "   \n",
    "    \n"
   ]
  },
  {
   "cell_type": "code",
   "execution_count": 284,
   "id": "1521cd5d",
   "metadata": {},
   "outputs": [
    {
     "name": "stdout",
     "output_type": "stream",
     "text": [
      "la letra o aparece 4 veces\n"
     ]
    }
   ],
   "source": [
    "oracion = input(\"escribe una frase:\")\n",
    "contador = 0\n",
    "\n",
    "for letra in oracion:\n",
    "    if letra.lower() == \"o\":\n",
    "        contador += 1\n",
    "\n",
    "print(f\"la letra o aparece {contador} veces\")"
   ]
  }
 ],
 "metadata": {
  "kernelspec": {
   "display_name": ".venv",
   "language": "python",
   "name": "python3"
  },
  "language_info": {
   "codemirror_mode": {
    "name": "ipython",
    "version": 3
   },
   "file_extension": ".py",
   "mimetype": "text/x-python",
   "name": "python",
   "nbconvert_exporter": "python",
   "pygments_lexer": "ipython3",
   "version": "3.12.3"
  }
 },
 "nbformat": 4,
 "nbformat_minor": 5
}
